{
 "cells": [
  {
   "cell_type": "code",
   "execution_count": null,
   "metadata": {},
   "outputs": [
    {
     "name": "stdout",
     "output_type": "stream",
     "text": [
      "Username: k\n"
     ]
    }
   ],
   "source": [
    "import socket\n",
    "import select\n",
    "import errno\n",
    "import sys\n",
    "\n",
    "#### chat application ####\n",
    "\n",
    "HEADER_SIZE = 10\n",
    "HOST = \"10.0.0.200\"\n",
    "PORT = 9999\n",
    "\n",
    "client_username = input(\"Username: \")\n",
    "client_socket = socket.socket(socket.AF_INET, socket.SOCK_STREAM)\n",
    "client_socket.connect((HOST, PORT))\n",
    "# https://medium.com/vaidikkapoor/understanding-non-blocking-i-o-with-python-part-1-ec31a2e2db9b\n",
    "client_socket.setblocking(0) # receive functionality will be non-blocking\n",
    "\n",
    "username = client_username.encode('utf-8')\n",
    "username_header = f\"{len(username):<{HEADER_SIZE}}\".encode('utf-8')\n",
    "client_socket.send(username_header + username)\n",
    "\n",
    "# send & receive messages\n",
    "while True:\n",
    "    message = input(f\"{client_username} > \") # before user types anything, has their username\n",
    "    \n",
    "    if message: # if the user typed something\n",
    "        message = message.encode('utf-8')\n",
    "        message_header = f\"{len(message) :< {HEADER_SIZE}}\".encode('utf-8')\n",
    "        client_socket.send(message_header + message) # send the message\n",
    "    \n",
    "    try:\n",
    "        while True: # receive messages until we hit an error\n",
    "            username_header = client_socket.recv(HEADER_SIZE)\n",
    "            if not len(username_header):\n",
    "                print(\"Connection closed by the server\")\n",
    "                sys.exit\n",
    "            username_length = int(username_header.decode('utf-8').strip())\n",
    "            username = client_socket.recv(username_length).decode('utf-8')\n",
    "            \n",
    "            message_header = client_socket.recv(HEADER_SIZE)\n",
    "            message_length = int(message_header.decode('utf-8').strip())\n",
    "            message = client_socket.recv(message_length).decode('utf-8')\n",
    "            \n",
    "            print(f\"{username} > {message}\")\n",
    "    \n",
    "    # errors we may see if there are no more messages to receive\n",
    "    except IOError as e:\n",
    "        if e.errno != errno.EAGAIN and e.errno != errno.EWOULDBLOCK:\n",
    "            print('Reading Error', str(e))\n",
    "            sys.exit()\n",
    "        continue\n",
    "    \n",
    "    except Exception as e:\n",
    "        print('Error', str(e))\n",
    "        sys.exit()\n",
    "        \n",
    "    \n",
    "        \n",
    "        \n"
   ]
  },
  {
   "cell_type": "code",
   "execution_count": null,
   "metadata": {},
   "outputs": [],
   "source": []
  },
  {
   "cell_type": "code",
   "execution_count": null,
   "metadata": {},
   "outputs": [],
   "source": []
  }
 ],
 "metadata": {
  "kernelspec": {
   "display_name": "Python 3",
   "language": "python",
   "name": "python3"
  },
  "language_info": {
   "codemirror_mode": {
    "name": "ipython",
    "version": 3
   },
   "file_extension": ".py",
   "mimetype": "text/x-python",
   "name": "python",
   "nbconvert_exporter": "python",
   "pygments_lexer": "ipython3",
   "version": "3.7.4"
  }
 },
 "nbformat": 4,
 "nbformat_minor": 2
}
